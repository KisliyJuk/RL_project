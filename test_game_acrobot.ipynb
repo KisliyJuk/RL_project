{
  "cells": [
    {
      "cell_type": "code",
      "execution_count": null,
      "metadata": {
        "colab": {
          "base_uri": "https://localhost:8080/"
        },
        "id": "xFiLqmtmhPkD",
        "outputId": "fa7d19a8-3866-4465-c26f-f83c9fef6c66"
      },
      "outputs": [],
      "source": [
        "!pip install swig # needed to build Box2D in the pip install\n",
        "!pip install box2d-py\n",
        "!pip install gym[box2d]"
      ]
    },
    {
      "cell_type": "code",
      "execution_count": 2,
      "metadata": {
        "id": "Q2F0aIzofZwD"
      },
      "outputs": [],
      "source": [
        "import gym\n",
        "import random\n",
        "from create_agent import Agent\n",
        "from utils import plot_learning_curve\n",
        "import numpy as np"
      ]
    },
    {
      "cell_type": "code",
      "execution_count": 7,
      "metadata": {
        "id": "2e5pT-uwu6-P"
      },
      "outputs": [],
      "source": [
        "from matplotlib import animation\n",
        "import matplotlib.pyplot as plt\n",
        "\n",
        "def display_frames_as_gif(frames):\n",
        "    patch = plt.imshow(frames[0])\n",
        "    plt.axis('off')\n",
        "    def animate(i):\n",
        "        patch.set_data(frames[i])\n",
        "\n",
        "    anim = animation.FuncAnimation(plt.gcf(), animate, frames = len(frames), interval=5)\n",
        "    anim.save('./Acrobot.gif', writer='imagemagick', fps=30)"
      ]
    },
    {
      "cell_type": "code",
      "execution_count": null,
      "metadata": {
        "colab": {
          "base_uri": "https://localhost:8080/",
          "height": 1000
        },
        "id": "KYiJBWgCkSQl",
        "outputId": "1f422cc3-3e70-42a5-bf43-3c50a6610715"
      },
      "outputs": [],
      "source": [
        "env = gym.make('Acrobot-v1')\n",
        "agent = Agent(gamma=0.99, epsilon=1.0, batch_size=1024, n_actions=3, eps_end=0.001,\n",
        "              input_dims=[6], lr=0.0001)\n",
        "scores, eps_history = [], []\n",
        "n_games = 500\n",
        "\n",
        "for i in range(n_games):\n",
        "    score = 0\n",
        "    done = False\n",
        "    observation = env.reset()\n",
        "    while not done:\n",
        "        action = agent.choose_action(observation)\n",
        "        observation_, reward, done, info = env.step(action)\n",
        "        score += reward\n",
        "        agent.store_transition(observation, action, reward,\n",
        "                                observation_, done)\n",
        "        agent.learn()\n",
        "        observation = observation_\n",
        "    scores.append(score)\n",
        "    eps_history.append(agent.epsilon)\n",
        "\n",
        "    avg_score = np.mean(scores[-100:])\n",
        "\n",
        "    print('episode ', i, 'score %.2f' % score,\n",
        "            'average score %.2f' % avg_score,\n",
        "            'epsilon %.2f' % agent.epsilon)\n",
        "x = [i+1 for i in range(n_games)]\n",
        "filename = 'Acrobot.png'\n",
        "plot_learning_curve(x, scores, eps_history, filename)"
      ]
    },
    {
      "cell_type": "code",
      "execution_count": null,
      "metadata": {
        "colab": {
          "base_uri": "https://localhost:8080/",
          "height": 547
        },
        "id": "bNmLohTFt5Cm",
        "outputId": "5768f9ed-ae39-4432-8063-cecaaa351318"
      },
      "outputs": [],
      "source": [
        "score = 0\n",
        "done = False\n",
        "observation = env.reset()\n",
        "frames = []\n",
        "while not done:\n",
        "    frames.append(env.render(mode = 'rgb_array'))\n",
        "    action = agent.choose_action(observation)\n",
        "    observation_, reward, done, info = env.step(action)\n",
        "    score += reward\n",
        "    observation = observation_\n",
        "print('Total score : %.2f'%score)\n",
        "display_frames_as_gif(frames)"
      ]
    }
  ],
  "metadata": {
    "accelerator": "GPU",
    "colab": {
      "gpuType": "T4",
      "provenance": []
    },
    "kernelspec": {
      "display_name": "Python 3",
      "name": "python3"
    },
    "language_info": {
      "codemirror_mode": {
        "name": "ipython",
        "version": 3
      },
      "file_extension": ".py",
      "mimetype": "text/x-python",
      "name": "python",
      "nbconvert_exporter": "python",
      "pygments_lexer": "ipython3",
      "version": "3.11.6"
    }
  },
  "nbformat": 4,
  "nbformat_minor": 0
}
